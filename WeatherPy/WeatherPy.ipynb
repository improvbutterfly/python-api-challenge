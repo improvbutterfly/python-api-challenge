{
 "cells": [
  {
   "cell_type": "code",
   "execution_count": 13,
   "metadata": {},
   "outputs": [],
   "source": [
    "# Dependencies\n",
    "import matplotlib.pyplot as plt\n",
    "import requests\n",
    "from scipy import stats\n",
    "import pandas as pd\n",
    "import random\n",
    "from citipy import citipy\n",
    "from config import gkey"
   ]
  },
  {
   "cell_type": "markdown",
   "metadata": {},
   "source": [
    "## Generate Cities List"
   ]
  },
  {
   "cell_type": "code",
   "execution_count": 15,
   "metadata": {},
   "outputs": [
    {
     "name": "stdout",
     "output_type": "stream",
     "text": [
      "Cities: ['hasaki', 'nikolskoye', 'vaini', 'kapaa', 'ushuaia', 'sao joao da barra', 'camacha', 'zhangjiakou', 'codrington', 'qaanaaq', 'lavrentiya', 'inyonga', 'henties bay', 'punta arenas', 'bushehr', 'faya', 'vaitupu', 'sao marcos', 'rikitea', 'ushuaia', 'kapaa', 'nanortalik', 'port lincoln', 'bethel', 'mar del plata', 'la orilla', 'puerto ayora', 'kamennomostskiy', 'magomeni', 'busselton', 'vostok', 'vaini', 'punta arenas', 'vila franca do campo', 'tiarei', 'ewa beach', 'oga', 'victoria', 'castro', 'nanortalik', 'acari', 'new norfolk', 'hermanus', 'hermanus', 'mys shmidta', 'taoudenni', 'dunedin', 'marevo', 'half moon bay', 'kuching', 'warqla', 'barrow', 'maceio', 'mataura', 'san patricio', 'bengkulu', 'benghazi', 'nikolskoye', 'rikitea', 'beyneu', 'dikson', 'busselton', 'turka', 'itaituba', 'east london', 'angoram', 'port elizabeth', 'san patricio', 'aykhal', 'grand-santi', 'hobart', 'vila velha', 'arraial do cabo', 'qaanaaq', 'hermanus', 'souillac', 'madaoua', 'nizhneyansk', 'bambous virieux', 'rikitea', 'mahebourg', 'ushuaia', 'jumla', 'barrow', 'mataura', 'rikitea', 'constitucion', 'san quintin', 'mataura', 'hithadhoo', 'okhotsk', 'bambous virieux', 'longlac', 'atambua', 'nikolskoye', 'wencheng', 'mahebourg', 'adrar', 'tasiilaq', 'aripuana', 'vila velha', 'ahipara', 'new norfolk', 'cabo san lucas', 'busselton', 'kita', 'minbu', 'seoul', 'tasiilaq', 'mataura', 'hithadhoo', 'puntarenas', 'chokurdakh', 'hermanus', 'te anau', 'lingao', 'port hardy', 'ojinaga', 'belushya guba', 'punta arenas', 'barrow', 'ushuaia', 'turukhansk', 'sao joao da barra', 'magadan', 'delvine', 'puerto ayora', 'vila velha', 'barrow', 'hermanus', 'kota kinabalu', 'taolanaro', 'palabuhanratu', 'ushuaia', 'vaini', 'bambanglipuro', 'tsienyane', 'punta arenas', 'illoqqortoormiut', 'hermanus', 'carnarvon', 'kaitangata', 'angoche', 'attawapiskat', 'thompson', 'vaini', 'ushuaia', 'mayo', 'taolanaro', 'naze', 'mar del plata', 'awjilah', 'porto belo', 'bom jardim', 'katsuura', 'ushuaia', 'mendi', 'daru', 'matamoros', 'hobart', 'taolanaro', 'gizo', 'purpe', 'puerto ayora', 'busselton', 'esperance', 'lhokseumawe', 'rafina', 'rikitea', 'bolungarvik', 'mataura', 'hit', 'olinda', 'grand river south east', 'mataura', 'nemuro', 'castro', 'predivinsk', 'barabai', 'avera', 'deputatskiy', 'mayo', 'sakakah', 'nanortalik', 'hermanus', 'new norfolk', 'jamestown', 'kodiak', 'kupang', 'chisec', 'georgetown', 'saskylakh', 'yalvac', 'rocha', 'chokurdakh', 'kloulklubed', 'adrar', 'nantucket', 'albany', 'voh', 'thompson', 'illoqqortoormiut', 'tianpeng', 'nikolskoye', 'barrow', 'rikitea', 'picton', 'ushuaia', 'rikitea', 'lavrentiya', 'saskylakh', 'atuona', 'dikson', 'rikitea', 'busselton', 'avarua', 'berkak', 'noumea', 'rikitea', 'ushuaia', 'busselton', 'fortuna', 'ponto novo', 'barentsburg', 'tiksi', 'port augusta', 'castro', 'albany', 'saleaula', 'carnarvon', 'san quintin', 'cabo san lucas', 'ushuaia', 'cidreira', 'illoqqortoormiut', 'punalur', 'rikitea', 'calama', 'kingsville', 'boden', 'havoysund', 'patillas', 'yellowknife', 'busselton', 'jamestown', 'puerto ayora', 'khatanga', 'labuhan', 'karamken', 'fort-shevchenko', 'rikitea', 'baruun-urt', 'coquimbo', 'albany', 'qasigiannguit', 'mar del plata', 'karamea', 'mataura', 'ulaanbaatar', 'dondo', 'kodiak', 'ushuaia', 'severo-kurilsk', 'tasiilaq', 'yellowknife', 'punta arenas', 'punta arenas', 'chicontepec', 'nayagarh', 'urumqi', 'the pas', 'hualmay', 'puerto madero', 'hami', 'bluff', 'kapaa', 'busselton', 'atuona', 'albany', 'lolua', 'druzhba', 'provideniya', 'pevek', 'santa isabel do rio negro', 'bambous virieux', 'tuktoyaktuk', 'ouadda', 'nanning', 'zhigansk', 'ribeira grande', 'lerwick', 'cabo san lucas', 'port macquarie', 'victoria', 'sao joao da barra', 'barrow', 'ndele', 'lavrentiya', 'severo-kurilsk', 'torbay', 'noblesville', 'bluff', 'berlevag', 'jamestown', 'vasilsursk', 'hermanus', 'new norfolk', 'gobabis', 'amderma', 'punta arenas', 'castro', 'punta arenas', 'castro', 'samana', 'mataura', 'kapaa', 'baturaja', 'barrow', 'randazzo', 'mar del plata', 'kefamenanu', 'touba', 'bambous virieux', 'saint george', 'chuy', 'ambunti', 'airai', 'tagusao', 'barbosa ferraz', 'jamestown', 'mataura', 'pacific grove', 'ribeira grande', 'olinda', 'uruacu', 'nhulunbuy', 'bluff', 'ichinoseki', 'bac lieu', 'ushuaia', 'bluff', 'ushuaia', 'sassandra', 'hobart', 'woodward', 'ponta do sol', 'san cristobal', 'vestmannaeyjar', 'saint-philippe', 'quatre cocos', 'cockburn town', 'rikitea', 'albany', 'upernavik', 'broome', 'rikitea', 'lagoa', 'dubbo', 'cape town', 'jamestown', 'karamea', 'albany', 'sentyabrskiy', 'bredasdorp', 'hermanus', 'boueni', 'busselton', 'rikitea', 'ushuaia', 'severnyy-kospashskiy', 'jalu', 'jackson', 'taolanaro', 'deputatskiy', 'barentsburg', 'arraial do cabo', 'puerto ayora', 'mergui', 'khandbari', 'puerto ayora', 'ushuaia', 'arraial do cabo', 'mataura', 'new norfolk', 'sao joao da barra', 'new norfolk', 'bihoro', 'vaitupu', 'batie', 'wisconsin rapids', 'kapaa', 'baruun-urt', 'hermanus', 'cherskiy', 'punta arenas', 'tra vinh', 'usinsk', 'vaini', 'kaitangata', 'beyneu', 'podor', 'grand gaube', 'maues', 'viransehir', 'qaanaaq', 'chuy', 'amga', 'new norfolk', 'fonte boa', 'izhma', 'herat', 'lompoc', 'udalguri', 'busselton', 'busselton', 'hermanus', 'broome', 'avarua', 'chapais', 'norman wells', 'saint-philippe', 'punta arenas', 'bluff', 'lovozero', 'kapaa', 'hobart', 'rikitea', 'port alfred', 'balaguer', 'hithadhoo', 'pitiquito', 'yellowknife', 'albany', 'hobart', 'nalut', 'manoel urbano', 'cidreira', 'portland', 'tarko-sale', 'illoqqortoormiut', 'masalli', 'wilmington', 'atuona', 'arraial do cabo', 'jamestown', 'new norfolk', 'chokurdakh', 'east london', 'istisu', 'kununurra', 'rikitea', 'grand river south east', 'khatanga', 'vaitupu', 'isangel', 'port hardy', 'riom', 'hermanus', 'touros', 'honolulu', 'abbeville', 'acarau', 'atuona', 'ushuaia', 'vaini', 'belushya guba', 'barrow', 'rikitea', 'vaini', 'bedford', 'rikitea', 'dicabisagan', 'mahibadhoo', 'bambanglipuro', 'qaanaaq', 'albany', 'ushuaia', 'rikitea', 'cidreira', 'rikitea', 'busselton', 'bluff', 'new norfolk', 'chokurdakh', 'norman wells', 'itarema', 'rikitea', 'puerto ayora', 'ayan', 'benjamin constant', 'ushuaia', 'mys shmidta', 'zyryanka', 'rikitea', 'auki', 'saint-philippe', 'albany', 'avarua', 'kaeo', 'hilo']\n"
     ]
    }
   ],
   "source": [
    "# We need 500 cities spread across varying latitude ranges, between -90 to 90.\n",
    "# Longitude ranges between -180 to 180.\n",
    "# To get random cities, we can generate a list of random numbers between these ranges, then find the\n",
    "# nearest cities using Citipy\n",
    "\n",
    "# Create empty lists\n",
    "lats = []\n",
    "longs = []\n",
    "cities = []\n",
    "\n",
    "# Loop for 500 cities\n",
    "for x in range(500):\n",
    "    # Generate random coordinates\n",
    "    lats.append(random.randrange(-90.00,90.00))\n",
    "    longs.append(random.randrange(-180.00,180.00))\n",
    "\n",
    "    # Get nearest cities\n",
    "    city = citipy.nearest_city(lats[x],longs[x])\n",
    "    cities.append(f\"{city.city_name}, {city.country_code}\")\n",
    "    \n",
    "print(f\"Cities: {cities}\")"
   ]
  },
  {
   "cell_type": "code",
   "execution_count": null,
   "metadata": {},
   "outputs": [],
   "source": []
  }
 ],
 "metadata": {
  "kernelspec": {
   "display_name": "Python 3",
   "language": "python",
   "name": "python3"
  },
  "language_info": {
   "codemirror_mode": {
    "name": "ipython",
    "version": 3
   },
   "file_extension": ".py",
   "mimetype": "text/x-python",
   "name": "python",
   "nbconvert_exporter": "python",
   "pygments_lexer": "ipython3",
   "version": "3.7.6"
  }
 },
 "nbformat": 4,
 "nbformat_minor": 4
}
