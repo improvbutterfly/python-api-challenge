{
 "cells": [
  {
   "cell_type": "code",
   "execution_count": 1,
   "metadata": {},
   "outputs": [],
   "source": [
    "# Dependencies\n",
    "import matplotlib.pyplot as plt\n",
    "import requests\n",
    "import json\n",
    "from scipy import stats\n",
    "import pandas as pd\n",
    "import random\n",
    "from citipy import citipy\n",
    "from config import weather_api_key"
   ]
  },
  {
   "cell_type": "markdown",
   "metadata": {},
   "source": [
    "## Generate Cities List"
   ]
  },
  {
   "cell_type": "code",
   "execution_count": 4,
   "metadata": {},
   "outputs": [
    {
     "name": "stdout",
     "output_type": "stream",
     "text": [
      "Cities: ['Zonguldak, TR', 'Busselton, AU', 'El sauzal, MX', 'Arraial do cabo, BR', 'Ushuaia, AR', 'Puerto ayora, EC', 'Ponta do sol, PT', 'Rikitea, PF', 'Rubiataba, BR', 'Havre-saint-pierre, CA', 'Cape town, ZA', 'Ponta do sol, CV', 'Kedrovyy, RU', 'Lillooet, CA', 'Ushuaia, AR', 'Iqaluit, CA', 'Hovd, MN', 'Illoqqortoormiut, GL', 'Hilo, US', 'Busselton, AU', 'Calbuco, CL', 'Ribeira grande, PT', 'Pochutla, MX', 'Saint george, BM', 'Busselton, AU', 'Virginia beach, US', 'Hermanus, ZA', 'Severo-kurilsk, RU', 'Belushya guba, RU', 'Ushuaia, AR', 'Carlagan, PH', 'Ojinaga, MX', 'Kodiak, US', 'Hurghada, EG', 'Lebu, CL', 'Vila, VU', 'Westport, IE', 'Ambon, ID', 'Hasaki, JP', 'Lingao, CN', 'Bluff, NZ', 'Taolanaro, MG', 'Saskylakh, RU', 'Tilichiki, RU', 'Vila franca do campo, PT', 'Ushuaia, AR', 'Tasiilaq, GL', 'Kodiak, US', 'Sargatskoye, RU', 'Fortuna, US', 'Attawapiskat, CA', 'Atuona, PF', 'Hamilton, BM', 'Nizhneyansk, RU', 'Saint-philippe, RE', 'Ushuaia, AR', 'Cidreira, BR', 'Barrow, US', 'Mildura, AU', 'Upernavik, GL', 'Miraflores, CO', 'Rikitea, PF', 'Vaitupu, WF', 'Ushuaia, AR', 'Busselton, AU', 'Mahebourg, MU', 'Saldanha, ZA', 'Saleaula, WS', 'Vaitape, PF', 'Abalak, NE', 'Rikitea, PF', 'Saryshagan, KZ', 'Asau, TV', 'Ribeira grande, PT', 'Puerto ayora, EC', 'Illoqqortoormiut, GL', 'Busselton, AU', 'Rikitea, PF', 'Wagar, SD', 'Busselton, AU', 'Oyama, JP', 'The valley, AI', 'Ushuaia, AR', 'Hambantota, LK', 'Avarua, CK', 'Barrow, US', 'Okhotsk, RU', 'Bonavista, CA', 'Barentsburg, SJ', 'Nikolskoye, RU', 'Husavik, IS', 'Tessalit, ML', 'Lasa, CN', 'Chlum u trebone, CZ', 'Sorong, ID', 'Lolua, TV', 'Port alfred, ZA', 'Barrow, US', 'Cherskiy, RU', 'Vaini, TO', 'Macia, MZ', 'Qaanaaq, GL', 'Albany, AU', 'Mataura, PF', 'Punta arenas, CL', 'Tsihombe, MG', 'Ushuaia, AR', 'Vostok, RU', 'Port alfred, ZA', 'Georgetown, SH', 'Atuona, PF', 'Qaanaaq, GL', 'Hobart, AU', 'Quatre cocos, MU', 'Vaini, TO', 'Hilo, US', 'Labutta, MM', 'Santa maria, CV', 'East london, ZA', 'Lolua, TV', 'Clyde river, CA', 'Mar del plata, AR', 'Codrington, AG', 'Rikitea, PF', 'Punta arenas, CL', 'Ilulissat, GL', 'Busselton, AU', 'Thompson, CA', 'Umarkot, IN', 'Acin, AF', 'Clyde river, CA', 'Vaini, TO', 'Hilo, US', 'Cayenne, GF', 'Touros, BR', 'Avarua, CK', 'Tilichiki, RU', 'Bengkulu, ID', 'Marin, MX', 'Roma, AU', 'Hithadhoo, MV', 'Mataura, PF', 'Atuona, PF', 'Lavrentiya, RU', 'Hobart, AU', 'Tsihombe, MG', 'Busselton, AU', 'Codrington, AG', 'Basoko, CD', 'Kapaa, US', 'Eyl, SO', 'Pevek, RU', 'Blagoveshchensk, RU', 'Ushuaia, AR', 'Batemans bay, AU', 'Jamestown, SH', 'Saint-francois, GP', 'Bredasdorp, ZA', 'Nuuk, GL', 'Tarudant, MA', 'Nizhneyansk, RU', 'Kaitangata, NZ', 'Husavik, IS', 'Saint george, BM', 'Sola, VU', 'Mitu, CO', 'Hambantota, LK', 'Carnarvon, AU', 'Mar del plata, AR', 'Colares, PT', 'Albany, AU', 'Utiroa, KI', 'Amapa, BR', 'Ushuaia, AR', 'Hobart, AU', 'Albany, AU', 'Fereydun kenar, IR', 'Saint-philippe, RE', 'Carnarvon, AU', 'Jamestown, SH', 'Nikolskoye, RU', 'Atuona, PF', 'Mataura, PF', 'Ushuaia, AR', 'Busselton, AU', 'Nizhneyansk, RU', 'Talnakh, RU', 'Honiara, SB', 'Beringovskiy, RU', 'Mataura, PF', 'Dikson, RU', 'Shirokiy, RU', 'Thompson, CA', 'Lata, SB', 'Safaga, EG', 'Pangnirtung, CA', 'Rikitea, PF', 'Butaritari, KI', 'Bengkulu, ID', 'Puerto ayora, EC', 'Kodiak, US', 'Bethel, US', 'Coihaique, CL', 'Jamestown, SH', 'Saint-paul, RE', 'Punta arenas, CL', 'Mys shmidta, RU', 'Hilo, US', 'Lusambo, CD', 'Marzuq, LY', 'Yellowknife, CA', 'Ayagoz, KZ', 'Rikitea, PF', 'Nizhniy chir, RU', 'Khatanga, RU', 'Provideniya, RU', 'Albany, AU', 'Angoram, PG', 'Paamiut, GL', 'Tocache, PE', 'Torbay, CA', 'Juba, SD', 'Saint-philippe, RE', 'Punta arenas, CL', 'Bluff, NZ', 'Dolbeau, CA', 'Ushuaia, AR', 'Samarai, PG', 'Bargal, SO', 'Mys shmidta, RU', 'Arraial do cabo, BR', 'Roma, AU', 'Constitucion, MX', 'Barrow, US', 'Rikitea, PF', 'Busselton, AU', 'Nizamabad, IN', 'Santa vitoria, BR', 'Plastun, RU', 'Rikitea, PF', 'Half moon bay, US', 'Tuatapere, NZ', 'Rikitea, PF', 'Tidore, ID', 'Rikitea, PF', 'Saint-pierre, PM', 'Ribeira grande, PT', 'Victoria, SC', 'Illoqqortoormiut, GL', 'Attawapiskat, CA', 'Mahibadhoo, MV', 'Chokurdakh, RU', 'Barentsburg, SJ', 'Khatanga, RU', 'Hilo, US', 'Arlit, NE', 'Hobart, AU', 'Dolores hidalgo, MX', 'Bethel, US', 'Cape town, ZA', 'Anchorage, US', 'Tuatapere, NZ', 'Vaini, TO', 'Guerrero negro, MX', 'Cherskiy, RU', 'Shirokiy, RU', 'Rikitea, PF', 'Nikolskoye, RU', 'Puerto ayora, EC', 'Khatanga, RU', 'Severo-kurilsk, RU', 'Castro, CL', 'Qaanaaq, GL', 'Palabuhanratu, ID', 'Albany, AU', 'Rikitea, PF', 'Rikitea, PF', 'Albany, AU', 'Jibuti, DJ', 'Havre-saint-pierre, CA', 'Lorengau, PG', 'East london, ZA', 'Dikson, RU', 'Ormara, PK', 'Airai, PW', 'Barrhead, CA', 'Kiunga, PG', 'Bluff, NZ', 'Avarua, CK', 'Marawi, SD', 'Grindavik, IS', 'Ust-kamchatsk, RU', 'Avarua, CK', 'Meadow lake, CA', 'Leningradskiy, RU', 'Taolanaro, MG', 'Khatanga, RU', 'Nikolskoye, RU', 'Sentyabrskiy, RU', 'Busselton, AU', 'Kyabe, TD', 'Tsihombe, MG', 'Tumannyy, RU', 'Vohibinany, MG', 'Oranjemund, NA', 'Vaini, TO', 'Yellowknife, CA', 'Ushuaia, AR', 'Tuktoyaktuk, CA', 'New norfolk, AU', 'Cabo san lucas, MX', 'Farsund, NO', 'Mathathane, BW', 'Vaini, TO', 'Magui, CO', 'Ornes, NO', 'Chokurdakh, RU', 'Port alfred, ZA', 'Sao miguel do araguaia, BR', 'Ushuaia, AR', 'York, GB', 'Jizan, SA', 'Atuona, PF', 'Larap, PH', 'Kaitangata, NZ', 'Butaritari, KI', 'Hermanus, ZA', 'Torbay, CA', 'Umm lajj, SA', 'Rikitea, PF', 'Oistins, BB', 'Saint anthony, CA', 'Kodiak, US', 'Cape town, ZA', 'Beirut, LB', 'Vestmannaeyjar, IS', 'Nikolskoye, RU', 'Vredendal, ZA', 'Busselton, AU', 'Vaini, TO', 'Bredasdorp, ZA', 'Latung, PH', 'Saint-joseph, RE', 'Vista hermosa, CO', 'Rikitea, PF', 'Busselton, AU', 'Atuona, PF', 'Barrow, US', 'Lebu, CL', 'Ushuaia, AR', 'Hilo, US', 'Vaini, TO', 'Mokhsogollokh, RU', 'Taolanaro, MG', 'Padang, ID', 'Cuamba, MZ', 'Huarmey, PE', 'Kirensk, RU', 'Butaritari, KI', 'Sao gotardo, BR', 'Hermanus, ZA', 'Portland, AU', 'Kapaa, US', 'Asfi, MA', 'Whitehorse, CA', 'Bluff, NZ', 'Wadi, IN', 'Puerto ayora, EC', 'Port alfred, ZA', 'Hermanus, ZA', 'Cehegin, ES', 'Victoria, SC', 'Hobart, AU', 'Coquimbo, CL', 'Barrow, US', 'Gambela, ET', 'Aragarcas, BR', 'Sembe, CG', 'Kapaa, US', 'Buritizeiro, BR', 'Busselton, AU', 'Lakhimpur, IN', 'Alta floresta, BR', 'Airai, PW', 'Biaora, IN', 'Albany, AU', 'Tasiilaq, GL', 'Tiksi, RU', 'Illoqqortoormiut, GL', 'Sitka, US', 'Abilene, US', 'Castro, CL', 'Pochutla, MX', 'Kavieng, PG', 'Mataura, PF', 'Barrow, US', 'Vaini, TO', 'Cape town, ZA', 'Zeya, RU', 'Mason city, US', 'Bluff, NZ', 'Alofi, NU', 'Sinkat, SD', 'Kaitangata, NZ', 'Bluff, NZ', 'Albany, AU', 'Saint-philippe, RE', 'Busselton, AU', 'Bandarbeyla, SO', 'Apaxtla, MX', 'Clyde river, CA', 'Mar del plata, AR', 'Lebu, CL', 'Butaritari, KI', 'Rikitea, PF', 'Husavik, IS', 'Dolores hidalgo, MX', 'Jamestown, SH', 'Cape town, ZA', 'Albany, AU', 'Mahebourg, MU', 'Jaciara, BR', 'Rikitea, PF', 'Tabialan, PH', 'Urengoy, RU', 'Carberry, CA', 'Busselton, AU', 'Cherepanovo, RU', 'Kurumkan, RU', 'Hithadhoo, MV', 'Balikpapan, ID', 'Busselton, AU', 'Bilibino, RU', 'Jamestown, SH', 'Bluff, NZ', 'Rathdrum, US', 'Lolua, TV', 'Codrington, AG', 'Dikson, RU', 'Chokurdakh, RU', 'Kralendijk, AN', 'Ponta do sol, CV', 'Eureka, US', 'Yellowknife, CA', 'Arraial do cabo, BR', 'Taolanaro, MG', 'Sehithwa, BW', 'Kapoeta, SD', 'Ushuaia, AR', 'Severo-kurilsk, RU', 'Cidreira, BR', 'Tessalit, ML', 'Vila franca do campo, PT', 'Ostrovnoy, RU', 'Bluff, NZ', 'Airai, PW', 'Deputatskiy, RU', 'Pisco, PE', 'Umzimvubu, ZA', 'Louisbourg, CA', 'Belushya guba, RU', 'Senanga, ZM', 'Punta arenas, CL', 'Cape town, ZA', 'Vanimo, PG', 'Ushuaia, AR', 'Barrow, US', 'Turukhansk, RU', 'Solnechnyy, RU', 'Tura, RU', 'Hermanus, ZA', 'Hofn, IS', 'Jamestown, SH', 'Ribeira grande, PT', 'Ayan, RU', 'Rikitea, PF', 'Rikitea, PF', 'Longyearbyen, SJ', 'Belushya guba, RU', 'Nanaimo, CA', 'Vaini, TO', 'Khatanga, RU', 'Barentsburg, SJ', 'Barrow, US', 'Arraial do cabo, BR', 'Jamestown, SH', 'Vakhrushev, RU', 'Bluff, NZ', 'Kaitangata, NZ', 'Tabiauea, KI', 'Cabo san lucas, MX', 'Basco, PH', 'Taolanaro, MG', 'Banda aceh, ID', 'Codrington, AG', 'Rikitea, PF', 'Brae, GB', 'Salalah, OM', 'Ushuaia, AR', 'Barentsburg, SJ']\n"
     ]
    }
   ],
   "source": [
    "# We need 500 cities spread across varying latitude ranges, between -90 to 90.\n",
    "# Longitude ranges between -180 to 180.\n",
    "# To get random cities, we can generate a list of random numbers between these ranges, then find the\n",
    "# nearest cities using Citipy\n",
    "\n",
    "# Create empty lists\n",
    "lats = []\n",
    "longs = []\n",
    "cities = []\n",
    "\n",
    "# Loop for 500 cities\n",
    "for x in range(500):\n",
    "    # Generate random coordinates\n",
    "    lats.append(random.randrange(-90.00,90.00))\n",
    "    longs.append(random.randrange(-180.00,180.00))\n",
    "\n",
    "    # Get nearest cities\n",
    "    city = citipy.nearest_city(lats[x],longs[x])\n",
    "    cities.append(f\"{city.city_name.capitalize()}, {city.country_code.upper()}\")\n",
    "    \n",
    "print(f\"Cities: {cities}\")"
   ]
  },
  {
   "cell_type": "code",
   "execution_count": 5,
   "metadata": {},
   "outputs": [
    {
     "data": {
      "text/html": [
       "<div>\n",
       "<style scoped>\n",
       "    .dataframe tbody tr th:only-of-type {\n",
       "        vertical-align: middle;\n",
       "    }\n",
       "\n",
       "    .dataframe tbody tr th {\n",
       "        vertical-align: top;\n",
       "    }\n",
       "\n",
       "    .dataframe thead th {\n",
       "        text-align: right;\n",
       "    }\n",
       "</style>\n",
       "<table border=\"1\" class=\"dataframe\">\n",
       "  <thead>\n",
       "    <tr style=\"text-align: right;\">\n",
       "      <th></th>\n",
       "      <th>City</th>\n",
       "      <th>Latitude</th>\n",
       "      <th>Longitude</th>\n",
       "      <th>Temperature (F)</th>\n",
       "      <th>Humidity (%)</th>\n",
       "      <th>Cloudiness (%)</th>\n",
       "      <th>Wind Speed (mph)</th>\n",
       "    </tr>\n",
       "  </thead>\n",
       "  <tbody>\n",
       "    <tr>\n",
       "      <th>0</th>\n",
       "      <td>Zonguldak, TR</td>\n",
       "      <td></td>\n",
       "      <td></td>\n",
       "      <td></td>\n",
       "      <td></td>\n",
       "      <td></td>\n",
       "      <td></td>\n",
       "    </tr>\n",
       "    <tr>\n",
       "      <th>1</th>\n",
       "      <td>Busselton, AU</td>\n",
       "      <td></td>\n",
       "      <td></td>\n",
       "      <td></td>\n",
       "      <td></td>\n",
       "      <td></td>\n",
       "      <td></td>\n",
       "    </tr>\n",
       "    <tr>\n",
       "      <th>2</th>\n",
       "      <td>El sauzal, MX</td>\n",
       "      <td></td>\n",
       "      <td></td>\n",
       "      <td></td>\n",
       "      <td></td>\n",
       "      <td></td>\n",
       "      <td></td>\n",
       "    </tr>\n",
       "    <tr>\n",
       "      <th>3</th>\n",
       "      <td>Arraial do cabo, BR</td>\n",
       "      <td></td>\n",
       "      <td></td>\n",
       "      <td></td>\n",
       "      <td></td>\n",
       "      <td></td>\n",
       "      <td></td>\n",
       "    </tr>\n",
       "    <tr>\n",
       "      <th>4</th>\n",
       "      <td>Ushuaia, AR</td>\n",
       "      <td></td>\n",
       "      <td></td>\n",
       "      <td></td>\n",
       "      <td></td>\n",
       "      <td></td>\n",
       "      <td></td>\n",
       "    </tr>\n",
       "  </tbody>\n",
       "</table>\n",
       "</div>"
      ],
      "text/plain": [
       "                  City Latitude Longitude Temperature (F) Humidity (%)  \\\n",
       "0        Zonguldak, TR                                                   \n",
       "1        Busselton, AU                                                   \n",
       "2        El sauzal, MX                                                   \n",
       "3  Arraial do cabo, BR                                                   \n",
       "4          Ushuaia, AR                                                   \n",
       "\n",
       "  Cloudiness (%) Wind Speed (mph)  \n",
       "0                                  \n",
       "1                                  \n",
       "2                                  \n",
       "3                                  \n",
       "4                                  "
      ]
     },
     "execution_count": 5,
     "metadata": {},
     "output_type": "execute_result"
    }
   ],
   "source": [
    "# Add cities to DataFrame with empty data for columns we want to get from Weather API\n",
    "weather_df = pd.DataFrame({\"City\": cities,\n",
    "                           \"Latitude\": \"\",\n",
    "                           \"Longitude\": \"\",\n",
    "                           \"Temperature (F)\": \"\", \n",
    "                           \"Humidity (%)\": \"\",\n",
    "                           \"Cloudiness (%)\": \"\",\n",
    "                           \"Wind Speed (mph)\": \"\"})\n",
    "\n",
    "weather_df.head()"
   ]
  },
  {
   "cell_type": "code",
   "execution_count": 11,
   "metadata": {},
   "outputs": [
    {
     "ename": "SyntaxError",
     "evalue": "invalid syntax (<ipython-input-11-1e212e819090>, line 16)",
     "output_type": "error",
     "traceback": [
      "\u001b[0;36m  File \u001b[0;32m\"<ipython-input-11-1e212e819090>\"\u001b[0;36m, line \u001b[0;32m16\u001b[0m\n\u001b[0;31m    print(f\"{city} lat: {response[\"coord\"][\"lat\"]}, lon: {response[\"coord\"][\"lon\"]}, \")\u001b[0m\n\u001b[0m                                       ^\u001b[0m\n\u001b[0;31mSyntaxError\u001b[0m\u001b[0;31m:\u001b[0m invalid syntax\n"
     ]
    }
   ],
   "source": [
    "# Set up initial query URL\n",
    "url = \"http://api.openweathermap.org/data/2.5/weather?\"\n",
    "units = \"imperial\"\n",
    "\n",
    "# Build partial query URL\n",
    "query_url = f\"{url}appid={weather_api_key}&units={units}&q=\"\n",
    "\n",
    "# Loop through the Data Frame for cities and perform a request for data on each, then store the requested data in the Data Frame\n",
    "#for index, row in weather_df.iterrows():\n",
    "#    city = row[\"City\"]\n",
    "\n",
    "# Test grab city info\n",
    "city = cities[0]\n",
    "response = requests.get(query_url + city).json()\n",
    "\n",
    "print(f'{city} lat: {response[\"coord\"][\"lat\"]}, lon: {response[\"coord\"][\"lon\"]}, ')\n",
    "# Call the OpenWeatherMap API on each city, and store Latitude, Longitude, Temperature (F), Humidity (%), \n",
    "    # Cloudiness (%), Wind Speed (mph) data\n",
    "    \n",
    "#    try:\n",
    "#    except:\n",
    "#        print(f\"{city} not found on Weather API\")\n",
    "\n",
    "print(response)"
   ]
  },
  {
   "cell_type": "code",
   "execution_count": null,
   "metadata": {},
   "outputs": [],
   "source": []
  }
 ],
 "metadata": {
  "kernelspec": {
   "display_name": "Python 3",
   "language": "python",
   "name": "python3"
  },
  "language_info": {
   "codemirror_mode": {
    "name": "ipython",
    "version": 3
   },
   "file_extension": ".py",
   "mimetype": "text/x-python",
   "name": "python",
   "nbconvert_exporter": "python",
   "pygments_lexer": "ipython3",
   "version": "3.7.6"
  }
 },
 "nbformat": 4,
 "nbformat_minor": 4
}
